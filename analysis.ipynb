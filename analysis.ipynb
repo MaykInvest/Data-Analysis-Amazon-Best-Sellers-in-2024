{
 "cells": [
  {
   "cell_type": "markdown",
   "id": "05e601f2",
   "metadata": {},
   "source": [
    "### 📊 Amazon Best Sellers 2024 Analysis\n",
    "\n",
    "#### Introduction\n",
    "\n",
    "This analysis explores **Amazon’s best-selling products of 2024** to uncover key trends and insights within the e-commerce market. By examining product categories, prices, ratings, brands, and sales patterns over time, the goal is to understand what drives success on the platform.\n",
    "\n",
    "The analysis focuses on five main questions:\n",
    "\n",
    "1. **Which product categories dominate Amazon’s best sellers in 2024?**  \n",
    "2. **What is the relationship between product price and sales performance?**  \n",
    "3. **Do higher customer ratings correlate with higher sales?**  \n",
    "4. **Which brands appear most frequently among the top-selling products?**  \n",
    "5. **How do monthly sales trends change throughout 2024, especially around major events or seasons?**\n",
    "\n",
    "Through this analysis, we aim to identify patterns that can help sellers, marketers, and analysts better understand **consumer behavior** and **market dynamics** on Amazon.\n",
    "\n",
    "#### 📦 Next Steps   \n",
    "- Set up the project structure (data, notebooks, src, reports).  \n",
    "- Install the required Python libraries.  \n",
    "- Begin exploratory data analysis (EDA).\n",
    "-------------\n",
    "#### ⚙️ Required Libraries:"
   ]
  },
  {
   "cell_type": "code",
   "execution_count": 1,
   "id": "f74e23d9",
   "metadata": {},
   "outputs": [
    {
     "name": "stdout",
     "output_type": "stream",
     "text": [
      "Note: you may need to restart the kernel to use updated packages.\n"
     ]
    }
   ],
   "source": [
    "%pip install -q -U pandas numpy matplotlib seaborn "
   ]
  },
  {
   "cell_type": "code",
   "execution_count": 2,
   "id": "3c51a978",
   "metadata": {},
   "outputs": [
    {
     "name": "stdout",
     "output_type": "stream",
     "text": [
      "Note: you may need to restart the kernel to use updated packages.\n"
     ]
    }
   ],
   "source": [
    "%pip install -q -U watermark"
   ]
  },
  {
   "cell_type": "markdown",
   "id": "5eaefe4d",
   "metadata": {},
   "source": [
    "### 📦 Project Libraries - import\n",
    "\n",
    "This section lists all the Python libraries used in this project. Keeping them organized here helps with reproducibility and makes it easier to install dependencies."
   ]
  },
  {
   "cell_type": "code",
   "execution_count": 1,
   "id": "f8b2c091",
   "metadata": {},
   "outputs": [],
   "source": [
    "# Importing the library for data manipulation in tables\n",
    "import pandas as pd \n",
    "\n",
    "# Importing the NumPy library for mathematical operations and arrays\n",
    "import numpy as np  \n",
    "\n",
    "# Importing the Matplotlib library for generating plots\n",
    "import matplotlib.pyplot as plt  \n",
    "\n",
    "# Importing the Seaborn library for statistical data visualization\n",
    "import seaborn as sns  \n",
    "\n",
    "# Jupyter Notebook magic command to display plots directly in the notebook\n",
    "%matplotlib inline"
   ]
  },
  {
   "cell_type": "code",
   "execution_count": 2,
   "id": "0b9036f5",
   "metadata": {},
   "outputs": [
    {
     "name": "stdout",
     "output_type": "stream",
     "text": [
      "Author: Maykon Analysis\n",
      "\n",
      "Last updated: 2025-10-20\n",
      "\n",
      "Python implementation: CPython\n",
      "Python version       : 3.14.0\n",
      "IPython version      : 9.6.0\n",
      "\n",
      "numpy     : 2.3.4\n",
      "pandas    : 2.3.3\n",
      "matplotlib: 3.10.7\n",
      "seaborn   : 0.13.2\n",
      "\n"
     ]
    }
   ],
   "source": [
    "# Load the watermark extension\n",
    "%reload_ext watermark\n",
    "\n",
    "# Display metadata for your notebook\n",
    "%watermark -a \"Maykon Analysis\" -d -u -v -p numpy,pandas,matplotlib,seaborn"
   ]
  },
  {
   "cell_type": "code",
   "execution_count": null,
   "id": "5058d616",
   "metadata": {},
   "outputs": [],
   "source": []
  }
 ],
 "metadata": {
  "kernelspec": {
   "display_name": ".venv",
   "language": "python",
   "name": "python3"
  },
  "language_info": {
   "codemirror_mode": {
    "name": "ipython",
    "version": 3
   },
   "file_extension": ".py",
   "mimetype": "text/x-python",
   "name": "python",
   "nbconvert_exporter": "python",
   "pygments_lexer": "ipython3",
   "version": "3.14.0"
  }
 },
 "nbformat": 4,
 "nbformat_minor": 5
}
