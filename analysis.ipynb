{
 "cells": [
  {
   "cell_type": "markdown",
   "id": "05e601f2",
   "metadata": {},
   "source": [
    "## 💘 Amazon Best Sellers – Top Valentine Gifts 2024 🎯  \n",
    "\n",
    "Valentine’s Day is one of the most popular shopping events of the year, driving millions of customers to find the perfect gift for their loved ones.  \n",
    "This analysis explores **Amazon’s Top Valentine Gifts in 2024**, aiming to uncover what types of products captured the hearts (and wallets) of shoppers.  \n",
    "\n",
    "Using data from Amazon’s best sellers, this project identifies trends across **product categories**, **brands**, and **customer ratings** to understand what made certain gifts stand out.  \n",
    "\n",
    "### 🧠 Key Questions  \n",
    "1. **Which product categories dominate Amazon’s best sellers – Top Valentine Gifts in 2024?**  \n",
    "2. **Do higher customer ratings correlate with higher popularity (reviews)?**  \n",
    "3. **Which brands appear most frequently among the top-selling Valentine products?**  \n",
    "4. **How do customer preferences shape the Valentine gift market?**  \n",
    "\n",
    "Through data visualization and exploratory analysis, we aim to highlight the main patterns that defined Valentine’s Day shopping on Amazon in 2024 — from trending categories to the brands that made the biggest impression.  \n"
   ]
  },
  {
   "cell_type": "code",
   "execution_count": 1,
   "id": "f74e23d9",
   "metadata": {},
   "outputs": [
    {
     "name": "stdout",
     "output_type": "stream",
     "text": [
      "Note: you may need to restart the kernel to use updated packages.\n"
     ]
    }
   ],
   "source": [
    "%pip install -q -U pandas numpy matplotlib seaborn"
   ]
  },
  {
   "cell_type": "code",
   "execution_count": 2,
   "id": "3c51a978",
   "metadata": {},
   "outputs": [
    {
     "name": "stdout",
     "output_type": "stream",
     "text": [
      "Note: you may need to restart the kernel to use updated packages.\n"
     ]
    }
   ],
   "source": [
    "%pip install -q -U watermark"
   ]
  },
  {
   "cell_type": "markdown",
   "id": "5eaefe4d",
   "metadata": {},
   "source": [
    "### 📦 Project Libraries - import\n",
    "\n",
    "This section lists all the Python libraries used in this project. Keeping them organized here helps with reproducibility and makes it easier to install dependencies."
   ]
  },
  {
   "cell_type": "code",
   "execution_count": 3,
   "id": "f8b2c091",
   "metadata": {},
   "outputs": [],
   "source": [
    "# Importing the library for data manipulation in tables\n",
    "import pandas as pd \n",
    "\n",
    "# Importing the NumPy library for mathematical operations and arrays\n",
    "import numpy as np  \n",
    "\n",
    "# Importing the Matplotlib library for generating plots\n",
    "import matplotlib.pyplot as plt  \n",
    "\n",
    "# Importing the Seaborn library for statistical data visualization\n",
    "import seaborn as sns  \n",
    "\n",
    "# Jupyter Notebook magic command to display plots directly in the notebook\n",
    "%matplotlib inline"
   ]
  },
  {
   "cell_type": "code",
   "execution_count": 4,
   "id": "0b9036f5",
   "metadata": {},
   "outputs": [
    {
     "name": "stdout",
     "output_type": "stream",
     "text": [
      "Author: Maykon Analysis\n",
      "\n",
      "Last updated: 2025-10-25\n",
      "\n",
      "Python implementation: CPython\n",
      "Python version       : 3.13.7\n",
      "IPython version      : 9.6.0\n",
      "\n",
      "numpy     : 2.3.4\n",
      "pandas    : 2.3.3\n",
      "matplotlib: 3.10.7\n",
      "seaborn   : 0.13.2\n",
      "\n"
     ]
    }
   ],
   "source": [
    "# Load the watermark extension\n",
    "%reload_ext watermark\n",
    "\n",
    "# Display metadata for your notebook\n",
    "%watermark -a \"Maykon Analysis\" -d -u -v -p numpy,pandas,matplotlib,seaborn"
   ]
  },
  {
   "cell_type": "markdown",
   "id": "42887ab1",
   "metadata": {},
   "source": [
    "#### Loading a dataset into your working environment (in this case, Python using the pandas library)."
   ]
  },
  {
   "cell_type": "code",
   "execution_count": 5,
   "id": "5058d616",
   "metadata": {},
   "outputs": [],
   "source": [
    "# data = r'D:\\Desktop\\Projects\\Data-Analysis-Amazon-Best-Sellers-in-2024\\data\\best_sellers24.csv'\n",
    "data = r\"C:\\Users\\LarTI\\OneDrive\\Desktop\\Projects\\Data-Analysis-Amazon-Best-Sellers-in-2024\\data\\best_sellers24.csv\"\n",
    "\n",
    "df = pd.read_csv(data)"
   ]
  },
  {
   "cell_type": "code",
   "execution_count": 6,
   "id": "c8827b20",
   "metadata": {},
   "outputs": [
    {
     "data": {
      "text/plain": [
       "(218, 11)"
      ]
     },
     "execution_count": 6,
     "metadata": {},
     "output_type": "execute_result"
    }
   ],
   "source": [
    "df.shape #the dimensions of your DataFrame (rows, columns)."
   ]
  },
  {
   "cell_type": "code",
   "execution_count": 7,
   "id": "99662e50",
   "metadata": {},
   "outputs": [
    {
     "data": {
      "application/vnd.microsoft.datawrangler.viewer.v0+json": {
       "columns": [
        {
         "name": "index",
         "rawType": "int64",
         "type": "integer"
        },
        {
         "name": "title",
         "rawType": "object",
         "type": "string"
        },
        {
         "name": "brand",
         "rawType": "object",
         "type": "string"
        },
        {
         "name": "description",
         "rawType": "object",
         "type": "unknown"
        },
        {
         "name": "starsBreakdown/3star",
         "rawType": "float64",
         "type": "float"
        },
        {
         "name": "starsBreakdown/4star",
         "rawType": "float64",
         "type": "float"
        },
        {
         "name": "starsBreakdown/5star",
         "rawType": "float64",
         "type": "float"
        },
        {
         "name": "reviewsCount",
         "rawType": "float64",
         "type": "float"
        },
        {
         "name": "price",
         "rawType": "float64",
         "type": "float"
        },
        {
         "name": "price/currency",
         "rawType": "object",
         "type": "string"
        },
        {
         "name": "price/value",
         "rawType": "float64",
         "type": "float"
        },
        {
         "name": "categoryPageData/productPosition",
         "rawType": "int64",
         "type": "integer"
        }
       ],
       "ref": "15933bc3-cc9e-4265-a2b0-a45133e58114",
       "rows": [
        [
         "0",
         "Ferrero Rocher, 24 Count, Premium Milk Chocolate Hazelnut, Valentine's Chocolate Gift Box, 10.6 oz",
         "Ferrero Rocher",
         "Ferrero Rocher's milk chocolate gift box offers a unique taste experience of contrasting layers: a whole crunchy hazelnut in the heart and a delicious, creamy hazelnut filling surrounded with milk chocolate, crispy wafers and gently roasted hazelnut pieces. And thanks to its signature golden wrapper, Ferrero Rocher is even more unique and special. The iconic original. Celebrate the moment with Ferrero Rocher. Since the 1940s, Ferrero has delighted consumers with premium, one-of-a-kind chocolate treats. What began as a local pasticceria in Italy’s Piemonte region is now one of the world’s most popular confectioners, satisfying cravings in over 100 countries worldwide. Thanks to a commitment to quality, freshness and a unique taste experience, Ferrero continues to delight chocolate lovers all over the world.",
         "0.02",
         "0.07",
         "0.89",
         "20021.0",
         null,
         "$",
         "11.39",
         "7"
        ],
        [
         "1",
         "HERSHEY'S NUGGETS Assorted Chocolate, Valentine's Day Candy Party Pack, 31.5 oz",
         "HERSHEY'S",
         "This HERSHEY'S NUGGETS candy assortment is filled with delicious assorted chocolate treats any chocolate lover will adore, and it includes scrumptious candies that are the perfect size for snacking. Dress your kitchen table up with a bowl of HERSHEY'S NUGGETS goodies, surprise your co-workers with a filled candy dish or drop a handful of these treats into a party bag for an instant, anytime gift. This chocolate variety pack includes HERSHEY'S SPECIAL DARK mildly sweet chocolate with almonds, milk chocolate, milk chocolate with almonds and extra creamy milk chocolate with almonds and toffee.",
         "0.03",
         "0.1",
         "0.84",
         "18891.0",
         null,
         "$",
         "10.69",
         "16"
        ],
        [
         "2",
         "LEGO Icons Flower Bouquet Building Decoration Set - Artificial Flowers with Roses, Home Accessories or Valentine Décor for Him and Her, Gift for Valentines Day, Botanical Collection for Adults, 10280",
         "LEGO",
         "Giving and receiving beautiful flowers is such a joy. If you’re looking for a flower gift with a difference, the LEGO Flower Bouquet (10280) is an inspired choice. Whether you’re treating a loved one to a Valentines Day gift, or are looking for your next creative project, this flower bouquet model building kit lets you relax, unplug and create something wonderful. When complete, the impressive flower display brings a touch of fun and color to any room. The adjustable stems make it easy to tailor the arrangement for any vase or container. Each detail of the bouquet is made from LEGO components – all customizable to create a unique display. Most of the flowers have petals that can be positioned in different ways so you can have fun designing different arrangements. Take the stems apart and recombine to adjust the height and shape of your flowers. Part of the LEGO Botanical Collection for adults, this set includes several elements made from a plant-based plastic, produced using sustainably sourced sugarcane. Contains 756 pieces.",
         "0.01",
         "0.05",
         "0.92",
         "19395.0",
         null,
         "$",
         "47.99",
         "2"
        ],
        [
         "3",
         "BodyRefresh Shower Steamers Aromatherapy - 8 Pack Shower Bombs with Essential Oils. Self Care Birthday Gifts for Women, Gifts for Women Men Mom, Valentines Day Gifts for Her Him",
         "BodyRefresh",
         null,
         "0.07",
         "0.15",
         "0.67",
         "593.0",
         null,
         "$",
         "9.99",
         "10"
        ],
        [
         "4",
         "JoJowell Shower Steamers Aromatherapy - 21Pcs Shower Bombs Gifts for Women Essential Oil, Nasal Relief, Self Care, Birthday Gifts for Women, Gifts for Mom, Valentines Day Gifts for Her Him",
         "JoJowell",
         null,
         "0.1",
         "0.15",
         "0.63",
         "816.0",
         null,
         "$",
         "21.99",
         "11"
        ]
       ],
       "shape": {
        "columns": 11,
        "rows": 5
       }
      },
      "text/html": [
       "<div>\n",
       "<style scoped>\n",
       "    .dataframe tbody tr th:only-of-type {\n",
       "        vertical-align: middle;\n",
       "    }\n",
       "\n",
       "    .dataframe tbody tr th {\n",
       "        vertical-align: top;\n",
       "    }\n",
       "\n",
       "    .dataframe thead th {\n",
       "        text-align: right;\n",
       "    }\n",
       "</style>\n",
       "<table border=\"1\" class=\"dataframe\">\n",
       "  <thead>\n",
       "    <tr style=\"text-align: right;\">\n",
       "      <th></th>\n",
       "      <th>title</th>\n",
       "      <th>brand</th>\n",
       "      <th>description</th>\n",
       "      <th>starsBreakdown/3star</th>\n",
       "      <th>starsBreakdown/4star</th>\n",
       "      <th>starsBreakdown/5star</th>\n",
       "      <th>reviewsCount</th>\n",
       "      <th>price</th>\n",
       "      <th>price/currency</th>\n",
       "      <th>price/value</th>\n",
       "      <th>categoryPageData/productPosition</th>\n",
       "    </tr>\n",
       "  </thead>\n",
       "  <tbody>\n",
       "    <tr>\n",
       "      <th>0</th>\n",
       "      <td>Ferrero Rocher, 24 Count, Premium Milk Chocola...</td>\n",
       "      <td>Ferrero Rocher</td>\n",
       "      <td>Ferrero Rocher's milk chocolate gift box offer...</td>\n",
       "      <td>0.02</td>\n",
       "      <td>0.07</td>\n",
       "      <td>0.89</td>\n",
       "      <td>20021.0</td>\n",
       "      <td>NaN</td>\n",
       "      <td>$</td>\n",
       "      <td>11.39</td>\n",
       "      <td>7</td>\n",
       "    </tr>\n",
       "    <tr>\n",
       "      <th>1</th>\n",
       "      <td>HERSHEY'S NUGGETS Assorted Chocolate, Valentin...</td>\n",
       "      <td>HERSHEY'S</td>\n",
       "      <td>This HERSHEY'S NUGGETS candy assortment is fil...</td>\n",
       "      <td>0.03</td>\n",
       "      <td>0.10</td>\n",
       "      <td>0.84</td>\n",
       "      <td>18891.0</td>\n",
       "      <td>NaN</td>\n",
       "      <td>$</td>\n",
       "      <td>10.69</td>\n",
       "      <td>16</td>\n",
       "    </tr>\n",
       "    <tr>\n",
       "      <th>2</th>\n",
       "      <td>LEGO Icons Flower Bouquet Building Decoration ...</td>\n",
       "      <td>LEGO</td>\n",
       "      <td>Giving and receiving beautiful flowers is such...</td>\n",
       "      <td>0.01</td>\n",
       "      <td>0.05</td>\n",
       "      <td>0.92</td>\n",
       "      <td>19395.0</td>\n",
       "      <td>NaN</td>\n",
       "      <td>$</td>\n",
       "      <td>47.99</td>\n",
       "      <td>2</td>\n",
       "    </tr>\n",
       "    <tr>\n",
       "      <th>3</th>\n",
       "      <td>BodyRefresh Shower Steamers Aromatherapy - 8 P...</td>\n",
       "      <td>BodyRefresh</td>\n",
       "      <td>NaN</td>\n",
       "      <td>0.07</td>\n",
       "      <td>0.15</td>\n",
       "      <td>0.67</td>\n",
       "      <td>593.0</td>\n",
       "      <td>NaN</td>\n",
       "      <td>$</td>\n",
       "      <td>9.99</td>\n",
       "      <td>10</td>\n",
       "    </tr>\n",
       "    <tr>\n",
       "      <th>4</th>\n",
       "      <td>JoJowell Shower Steamers Aromatherapy - 21Pcs ...</td>\n",
       "      <td>JoJowell</td>\n",
       "      <td>NaN</td>\n",
       "      <td>0.10</td>\n",
       "      <td>0.15</td>\n",
       "      <td>0.63</td>\n",
       "      <td>816.0</td>\n",
       "      <td>NaN</td>\n",
       "      <td>$</td>\n",
       "      <td>21.99</td>\n",
       "      <td>11</td>\n",
       "    </tr>\n",
       "  </tbody>\n",
       "</table>\n",
       "</div>"
      ],
      "text/plain": [
       "                                               title           brand  \\\n",
       "0  Ferrero Rocher, 24 Count, Premium Milk Chocola...  Ferrero Rocher   \n",
       "1  HERSHEY'S NUGGETS Assorted Chocolate, Valentin...       HERSHEY'S   \n",
       "2  LEGO Icons Flower Bouquet Building Decoration ...            LEGO   \n",
       "3  BodyRefresh Shower Steamers Aromatherapy - 8 P...     BodyRefresh   \n",
       "4  JoJowell Shower Steamers Aromatherapy - 21Pcs ...        JoJowell   \n",
       "\n",
       "                                         description  starsBreakdown/3star  \\\n",
       "0  Ferrero Rocher's milk chocolate gift box offer...                  0.02   \n",
       "1  This HERSHEY'S NUGGETS candy assortment is fil...                  0.03   \n",
       "2  Giving and receiving beautiful flowers is such...                  0.01   \n",
       "3                                                NaN                  0.07   \n",
       "4                                                NaN                  0.10   \n",
       "\n",
       "   starsBreakdown/4star  starsBreakdown/5star  reviewsCount  price  \\\n",
       "0                  0.07                  0.89       20021.0    NaN   \n",
       "1                  0.10                  0.84       18891.0    NaN   \n",
       "2                  0.05                  0.92       19395.0    NaN   \n",
       "3                  0.15                  0.67         593.0    NaN   \n",
       "4                  0.15                  0.63         816.0    NaN   \n",
       "\n",
       "  price/currency  price/value  categoryPageData/productPosition  \n",
       "0              $        11.39                                 7  \n",
       "1              $        10.69                                16  \n",
       "2              $        47.99                                 2  \n",
       "3              $         9.99                                10  \n",
       "4              $        21.99                                11  "
      ]
     },
     "execution_count": 7,
     "metadata": {},
     "output_type": "execute_result"
    }
   ],
   "source": [
    "df.head() #shows the first 5 rows."
   ]
  },
  {
   "cell_type": "code",
   "execution_count": 8,
   "id": "16273c0a",
   "metadata": {},
   "outputs": [
    {
     "data": {
      "application/vnd.microsoft.datawrangler.viewer.v0+json": {
       "columns": [
        {
         "name": "index",
         "rawType": "int64",
         "type": "integer"
        },
        {
         "name": "title",
         "rawType": "object",
         "type": "string"
        },
        {
         "name": "brand",
         "rawType": "object",
         "type": "string"
        },
        {
         "name": "description",
         "rawType": "object",
         "type": "unknown"
        },
        {
         "name": "starsBreakdown/3star",
         "rawType": "float64",
         "type": "float"
        },
        {
         "name": "starsBreakdown/4star",
         "rawType": "float64",
         "type": "float"
        },
        {
         "name": "starsBreakdown/5star",
         "rawType": "float64",
         "type": "float"
        },
        {
         "name": "reviewsCount",
         "rawType": "float64",
         "type": "float"
        },
        {
         "name": "price",
         "rawType": "float64",
         "type": "float"
        },
        {
         "name": "price/currency",
         "rawType": "object",
         "type": "unknown"
        },
        {
         "name": "price/value",
         "rawType": "float64",
         "type": "float"
        },
        {
         "name": "categoryPageData/productPosition",
         "rawType": "int64",
         "type": "integer"
        }
       ],
       "ref": "633b2e5d-71cd-4f78-be37-2e79ccda90ce",
       "rows": [
        [
         "213",
         "JOYIN 28 Packs Valentine's Day Gift Cards with Flashing LED Bracelets for Valentine Light Up Party Favor Toy, Valentine's Classroom Gift Exchange, Kids and Adults, Glow Accessories",
         "JOYIN",
         null,
         "0.14",
         "0.17",
         "0.55",
         "30.0",
         null,
         "$",
         "22.99",
         "305"
        ],
        [
         "214",
         "THEMEROL Natural Gemstone Bracelet Gifts for Daughter Mom Sister Niece Aunt Wife Girlfriend Grandma",
         "THEMEROL",
         null,
         "0.03",
         "0.07",
         "0.87",
         "140.0",
         null,
         null,
         null,
         "300"
        ],
        [
         "215",
         "Juegoal 28 Pack Valentines Day Gift Cards for Kids with Animal Plush Toys, Stress Relief Toy Animal Keychain Set, Valentines Party Favor Classroom Gift Exchange Supplies Bulk Game Prizes",
         "Juegoal",
         null,
         "0.05",
         "0.16",
         "0.68",
         "113.0",
         null,
         "$",
         "21.99",
         "296"
        ],
        [
         "216",
         "Double Couple Gift for Mom Women-Rose Cute Bear - Rose Adorable Teddy Artificial Bear - Best Gift for Valentines Day, Mothers Day, Anniversary, Birthdays - Clear Gift Box Included! 10 Inches Tall",
         "Double Couple",
         null,
         "0.06",
         "0.15",
         "0.72",
         "347.0",
         null,
         "$",
         "19.59",
         "298"
        ],
        [
         "217",
         "Valentine's Day Gifts For Her - Rose in Glass Dome Beauty and The Beast Rose - Rose in a Glass Mom Gifts Birthday Gifts Wedding Anniversary Decorations - Glass Rose | Rose with Dome | Rose Glass Dome",
         "Norcalway",
         null,
         "0.04",
         "0.1",
         "0.81",
         "423.0",
         null,
         "$",
         "23.97",
         "310"
        ]
       ],
       "shape": {
        "columns": 11,
        "rows": 5
       }
      },
      "text/html": [
       "<div>\n",
       "<style scoped>\n",
       "    .dataframe tbody tr th:only-of-type {\n",
       "        vertical-align: middle;\n",
       "    }\n",
       "\n",
       "    .dataframe tbody tr th {\n",
       "        vertical-align: top;\n",
       "    }\n",
       "\n",
       "    .dataframe thead th {\n",
       "        text-align: right;\n",
       "    }\n",
       "</style>\n",
       "<table border=\"1\" class=\"dataframe\">\n",
       "  <thead>\n",
       "    <tr style=\"text-align: right;\">\n",
       "      <th></th>\n",
       "      <th>title</th>\n",
       "      <th>brand</th>\n",
       "      <th>description</th>\n",
       "      <th>starsBreakdown/3star</th>\n",
       "      <th>starsBreakdown/4star</th>\n",
       "      <th>starsBreakdown/5star</th>\n",
       "      <th>reviewsCount</th>\n",
       "      <th>price</th>\n",
       "      <th>price/currency</th>\n",
       "      <th>price/value</th>\n",
       "      <th>categoryPageData/productPosition</th>\n",
       "    </tr>\n",
       "  </thead>\n",
       "  <tbody>\n",
       "    <tr>\n",
       "      <th>213</th>\n",
       "      <td>JOYIN 28 Packs Valentine's Day Gift Cards with...</td>\n",
       "      <td>JOYIN</td>\n",
       "      <td>NaN</td>\n",
       "      <td>0.14</td>\n",
       "      <td>0.17</td>\n",
       "      <td>0.55</td>\n",
       "      <td>30.0</td>\n",
       "      <td>NaN</td>\n",
       "      <td>$</td>\n",
       "      <td>22.99</td>\n",
       "      <td>305</td>\n",
       "    </tr>\n",
       "    <tr>\n",
       "      <th>214</th>\n",
       "      <td>THEMEROL Natural Gemstone Bracelet Gifts for D...</td>\n",
       "      <td>THEMEROL</td>\n",
       "      <td>NaN</td>\n",
       "      <td>0.03</td>\n",
       "      <td>0.07</td>\n",
       "      <td>0.87</td>\n",
       "      <td>140.0</td>\n",
       "      <td>NaN</td>\n",
       "      <td>NaN</td>\n",
       "      <td>NaN</td>\n",
       "      <td>300</td>\n",
       "    </tr>\n",
       "    <tr>\n",
       "      <th>215</th>\n",
       "      <td>Juegoal 28 Pack Valentines Day Gift Cards for ...</td>\n",
       "      <td>Juegoal</td>\n",
       "      <td>NaN</td>\n",
       "      <td>0.05</td>\n",
       "      <td>0.16</td>\n",
       "      <td>0.68</td>\n",
       "      <td>113.0</td>\n",
       "      <td>NaN</td>\n",
       "      <td>$</td>\n",
       "      <td>21.99</td>\n",
       "      <td>296</td>\n",
       "    </tr>\n",
       "    <tr>\n",
       "      <th>216</th>\n",
       "      <td>Double Couple Gift for Mom Women-Rose Cute Bea...</td>\n",
       "      <td>Double Couple</td>\n",
       "      <td>NaN</td>\n",
       "      <td>0.06</td>\n",
       "      <td>0.15</td>\n",
       "      <td>0.72</td>\n",
       "      <td>347.0</td>\n",
       "      <td>NaN</td>\n",
       "      <td>$</td>\n",
       "      <td>19.59</td>\n",
       "      <td>298</td>\n",
       "    </tr>\n",
       "    <tr>\n",
       "      <th>217</th>\n",
       "      <td>Valentine's Day Gifts For Her - Rose in Glass ...</td>\n",
       "      <td>Norcalway</td>\n",
       "      <td>NaN</td>\n",
       "      <td>0.04</td>\n",
       "      <td>0.10</td>\n",
       "      <td>0.81</td>\n",
       "      <td>423.0</td>\n",
       "      <td>NaN</td>\n",
       "      <td>$</td>\n",
       "      <td>23.97</td>\n",
       "      <td>310</td>\n",
       "    </tr>\n",
       "  </tbody>\n",
       "</table>\n",
       "</div>"
      ],
      "text/plain": [
       "                                                 title          brand  \\\n",
       "213  JOYIN 28 Packs Valentine's Day Gift Cards with...          JOYIN   \n",
       "214  THEMEROL Natural Gemstone Bracelet Gifts for D...       THEMEROL   \n",
       "215  Juegoal 28 Pack Valentines Day Gift Cards for ...        Juegoal   \n",
       "216  Double Couple Gift for Mom Women-Rose Cute Bea...  Double Couple   \n",
       "217  Valentine's Day Gifts For Her - Rose in Glass ...      Norcalway   \n",
       "\n",
       "    description  starsBreakdown/3star  starsBreakdown/4star  \\\n",
       "213         NaN                  0.14                  0.17   \n",
       "214         NaN                  0.03                  0.07   \n",
       "215         NaN                  0.05                  0.16   \n",
       "216         NaN                  0.06                  0.15   \n",
       "217         NaN                  0.04                  0.10   \n",
       "\n",
       "     starsBreakdown/5star  reviewsCount  price price/currency  price/value  \\\n",
       "213                  0.55          30.0    NaN              $        22.99   \n",
       "214                  0.87         140.0    NaN            NaN          NaN   \n",
       "215                  0.68         113.0    NaN              $        21.99   \n",
       "216                  0.72         347.0    NaN              $        19.59   \n",
       "217                  0.81         423.0    NaN              $        23.97   \n",
       "\n",
       "     categoryPageData/productPosition  \n",
       "213                               305  \n",
       "214                               300  \n",
       "215                               296  \n",
       "216                               298  \n",
       "217                               310  "
      ]
     },
     "execution_count": 8,
     "metadata": {},
     "output_type": "execute_result"
    }
   ],
   "source": [
    "df.tail()  #shows the last 5 rows."
   ]
  },
  {
   "cell_type": "code",
   "execution_count": 9,
   "id": "e9d7f00d",
   "metadata": {},
   "outputs": [
    {
     "name": "stdout",
     "output_type": "stream",
     "text": [
      "<class 'pandas.core.frame.DataFrame'>\n",
      "RangeIndex: 218 entries, 0 to 217\n",
      "Data columns (total 11 columns):\n",
      " #   Column                            Non-Null Count  Dtype  \n",
      "---  ------                            --------------  -----  \n",
      " 0   title                             218 non-null    object \n",
      " 1   brand                             217 non-null    object \n",
      " 2   description                       46 non-null     object \n",
      " 3   starsBreakdown/3star              218 non-null    float64\n",
      " 4   starsBreakdown/4star              218 non-null    float64\n",
      " 5   starsBreakdown/5star              218 non-null    float64\n",
      " 6   reviewsCount                      216 non-null    float64\n",
      " 7   price                             0 non-null      float64\n",
      " 8   price/currency                    169 non-null    object \n",
      " 9   price/value                       169 non-null    float64\n",
      " 10  categoryPageData/productPosition  218 non-null    int64  \n",
      "dtypes: float64(6), int64(1), object(4)\n",
      "memory usage: 18.9+ KB\n"
     ]
    }
   ],
   "source": [
    "df.info()  #Gives you a summary overview of your entire DataFrame."
   ]
  },
  {
   "cell_type": "code",
   "execution_count": 10,
   "id": "136132c9",
   "metadata": {},
   "outputs": [
    {
     "data": {
      "application/vnd.microsoft.datawrangler.viewer.v0+json": {
       "columns": [
        {
         "name": "index",
         "rawType": "object",
         "type": "string"
        },
        {
         "name": "title",
         "rawType": "object",
         "type": "unknown"
        },
        {
         "name": "brand",
         "rawType": "object",
         "type": "unknown"
        },
        {
         "name": "description",
         "rawType": "object",
         "type": "unknown"
        },
        {
         "name": "starsBreakdown/3star",
         "rawType": "float64",
         "type": "float"
        },
        {
         "name": "starsBreakdown/4star",
         "rawType": "float64",
         "type": "float"
        },
        {
         "name": "starsBreakdown/5star",
         "rawType": "float64",
         "type": "float"
        },
        {
         "name": "reviewsCount",
         "rawType": "float64",
         "type": "float"
        },
        {
         "name": "price",
         "rawType": "float64",
         "type": "float"
        },
        {
         "name": "price/currency",
         "rawType": "object",
         "type": "unknown"
        },
        {
         "name": "price/value",
         "rawType": "float64",
         "type": "float"
        },
        {
         "name": "categoryPageData/productPosition",
         "rawType": "float64",
         "type": "float"
        }
       ],
       "ref": "53e578ac-5fd5-43f4-9e79-d0b09e0abe49",
       "rows": [
        [
         "count",
         "218",
         "217",
         "46",
         "218.0",
         "218.0",
         "218.0",
         "216.0",
         "0.0",
         "169",
         "169.0",
         "218.0"
        ],
        [
         "unique",
         "218",
         "168",
         "46",
         null,
         null,
         null,
         null,
         null,
         "1",
         null,
         null
        ],
        [
         "top",
         "Ferrero Rocher, 24 Count, Premium Milk Chocolate Hazelnut, Valentine's Chocolate Gift Box, 10.6 oz",
         "Ferrero Rocher",
         "Ferrero Rocher's milk chocolate gift box offers a unique taste experience of contrasting layers: a whole crunchy hazelnut in the heart and a delicious, creamy hazelnut filling surrounded with milk chocolate, crispy wafers and gently roasted hazelnut pieces. And thanks to its signature golden wrapper, Ferrero Rocher is even more unique and special. The iconic original. Celebrate the moment with Ferrero Rocher. Since the 1940s, Ferrero has delighted consumers with premium, one-of-a-kind chocolate treats. What began as a local pasticceria in Italy’s Piemonte region is now one of the world’s most popular confectioners, satisfying cravings in over 100 countries worldwide. Thanks to a commitment to quality, freshness and a unique taste experience, Ferrero continues to delight chocolate lovers all over the world.",
         null,
         null,
         null,
         null,
         null,
         "$",
         null,
         null
        ],
        [
         "freq",
         "1",
         "6",
         "1",
         null,
         null,
         null,
         null,
         null,
         "169",
         null,
         null
        ],
        [
         "mean",
         null,
         null,
         null,
         "0.049220183486238536",
         "0.10527522935779818",
         "0.7679357798165137",
         "2863.759259259259",
         null,
         null,
         "18.04680473372781",
         "127.12385321100918"
        ],
        [
         "std",
         null,
         null,
         null,
         "0.04196594138001527",
         "0.0667560897043855",
         "0.15199701520410164",
         "7104.953282166909",
         null,
         null,
         "11.696469928021887",
         "91.81286457361722"
        ],
        [
         "min",
         null,
         null,
         null,
         "0.0",
         "0.0",
         "0.0",
         "1.0",
         null,
         null,
         "1.99",
         "1.0"
        ],
        [
         "25%",
         null,
         null,
         null,
         "0.03",
         "0.07250000000000001",
         "0.72",
         "54.75",
         null,
         null,
         "9.99",
         "52.25"
        ],
        [
         "50%",
         null,
         null,
         null,
         "0.04",
         "0.1",
         "0.79",
         "387.5",
         null,
         null,
         "15.95",
         "103.5"
        ],
        [
         "75%",
         null,
         null,
         null,
         "0.07",
         "0.13",
         "0.85",
         "1581.5",
         null,
         null,
         "21.99",
         "193.75"
        ],
        [
         "max",
         null,
         null,
         null,
         "0.38",
         "0.49",
         "1.0",
         "54895.0",
         null,
         null,
         "79.95",
         "310.0"
        ]
       ],
       "shape": {
        "columns": 11,
        "rows": 11
       }
      },
      "text/html": [
       "<div>\n",
       "<style scoped>\n",
       "    .dataframe tbody tr th:only-of-type {\n",
       "        vertical-align: middle;\n",
       "    }\n",
       "\n",
       "    .dataframe tbody tr th {\n",
       "        vertical-align: top;\n",
       "    }\n",
       "\n",
       "    .dataframe thead th {\n",
       "        text-align: right;\n",
       "    }\n",
       "</style>\n",
       "<table border=\"1\" class=\"dataframe\">\n",
       "  <thead>\n",
       "    <tr style=\"text-align: right;\">\n",
       "      <th></th>\n",
       "      <th>title</th>\n",
       "      <th>brand</th>\n",
       "      <th>description</th>\n",
       "      <th>starsBreakdown/3star</th>\n",
       "      <th>starsBreakdown/4star</th>\n",
       "      <th>starsBreakdown/5star</th>\n",
       "      <th>reviewsCount</th>\n",
       "      <th>price</th>\n",
       "      <th>price/currency</th>\n",
       "      <th>price/value</th>\n",
       "      <th>categoryPageData/productPosition</th>\n",
       "    </tr>\n",
       "  </thead>\n",
       "  <tbody>\n",
       "    <tr>\n",
       "      <th>count</th>\n",
       "      <td>218</td>\n",
       "      <td>217</td>\n",
       "      <td>46</td>\n",
       "      <td>218.000000</td>\n",
       "      <td>218.000000</td>\n",
       "      <td>218.000000</td>\n",
       "      <td>216.000000</td>\n",
       "      <td>0.0</td>\n",
       "      <td>169</td>\n",
       "      <td>169.000000</td>\n",
       "      <td>218.000000</td>\n",
       "    </tr>\n",
       "    <tr>\n",
       "      <th>unique</th>\n",
       "      <td>218</td>\n",
       "      <td>168</td>\n",
       "      <td>46</td>\n",
       "      <td>NaN</td>\n",
       "      <td>NaN</td>\n",
       "      <td>NaN</td>\n",
       "      <td>NaN</td>\n",
       "      <td>NaN</td>\n",
       "      <td>1</td>\n",
       "      <td>NaN</td>\n",
       "      <td>NaN</td>\n",
       "    </tr>\n",
       "    <tr>\n",
       "      <th>top</th>\n",
       "      <td>Ferrero Rocher, 24 Count, Premium Milk Chocola...</td>\n",
       "      <td>Ferrero Rocher</td>\n",
       "      <td>Ferrero Rocher's milk chocolate gift box offer...</td>\n",
       "      <td>NaN</td>\n",
       "      <td>NaN</td>\n",
       "      <td>NaN</td>\n",
       "      <td>NaN</td>\n",
       "      <td>NaN</td>\n",
       "      <td>$</td>\n",
       "      <td>NaN</td>\n",
       "      <td>NaN</td>\n",
       "    </tr>\n",
       "    <tr>\n",
       "      <th>freq</th>\n",
       "      <td>1</td>\n",
       "      <td>6</td>\n",
       "      <td>1</td>\n",
       "      <td>NaN</td>\n",
       "      <td>NaN</td>\n",
       "      <td>NaN</td>\n",
       "      <td>NaN</td>\n",
       "      <td>NaN</td>\n",
       "      <td>169</td>\n",
       "      <td>NaN</td>\n",
       "      <td>NaN</td>\n",
       "    </tr>\n",
       "    <tr>\n",
       "      <th>mean</th>\n",
       "      <td>NaN</td>\n",
       "      <td>NaN</td>\n",
       "      <td>NaN</td>\n",
       "      <td>0.049220</td>\n",
       "      <td>0.105275</td>\n",
       "      <td>0.767936</td>\n",
       "      <td>2863.759259</td>\n",
       "      <td>NaN</td>\n",
       "      <td>NaN</td>\n",
       "      <td>18.046805</td>\n",
       "      <td>127.123853</td>\n",
       "    </tr>\n",
       "    <tr>\n",
       "      <th>std</th>\n",
       "      <td>NaN</td>\n",
       "      <td>NaN</td>\n",
       "      <td>NaN</td>\n",
       "      <td>0.041966</td>\n",
       "      <td>0.066756</td>\n",
       "      <td>0.151997</td>\n",
       "      <td>7104.953282</td>\n",
       "      <td>NaN</td>\n",
       "      <td>NaN</td>\n",
       "      <td>11.696470</td>\n",
       "      <td>91.812865</td>\n",
       "    </tr>\n",
       "    <tr>\n",
       "      <th>min</th>\n",
       "      <td>NaN</td>\n",
       "      <td>NaN</td>\n",
       "      <td>NaN</td>\n",
       "      <td>0.000000</td>\n",
       "      <td>0.000000</td>\n",
       "      <td>0.000000</td>\n",
       "      <td>1.000000</td>\n",
       "      <td>NaN</td>\n",
       "      <td>NaN</td>\n",
       "      <td>1.990000</td>\n",
       "      <td>1.000000</td>\n",
       "    </tr>\n",
       "    <tr>\n",
       "      <th>25%</th>\n",
       "      <td>NaN</td>\n",
       "      <td>NaN</td>\n",
       "      <td>NaN</td>\n",
       "      <td>0.030000</td>\n",
       "      <td>0.072500</td>\n",
       "      <td>0.720000</td>\n",
       "      <td>54.750000</td>\n",
       "      <td>NaN</td>\n",
       "      <td>NaN</td>\n",
       "      <td>9.990000</td>\n",
       "      <td>52.250000</td>\n",
       "    </tr>\n",
       "    <tr>\n",
       "      <th>50%</th>\n",
       "      <td>NaN</td>\n",
       "      <td>NaN</td>\n",
       "      <td>NaN</td>\n",
       "      <td>0.040000</td>\n",
       "      <td>0.100000</td>\n",
       "      <td>0.790000</td>\n",
       "      <td>387.500000</td>\n",
       "      <td>NaN</td>\n",
       "      <td>NaN</td>\n",
       "      <td>15.950000</td>\n",
       "      <td>103.500000</td>\n",
       "    </tr>\n",
       "    <tr>\n",
       "      <th>75%</th>\n",
       "      <td>NaN</td>\n",
       "      <td>NaN</td>\n",
       "      <td>NaN</td>\n",
       "      <td>0.070000</td>\n",
       "      <td>0.130000</td>\n",
       "      <td>0.850000</td>\n",
       "      <td>1581.500000</td>\n",
       "      <td>NaN</td>\n",
       "      <td>NaN</td>\n",
       "      <td>21.990000</td>\n",
       "      <td>193.750000</td>\n",
       "    </tr>\n",
       "    <tr>\n",
       "      <th>max</th>\n",
       "      <td>NaN</td>\n",
       "      <td>NaN</td>\n",
       "      <td>NaN</td>\n",
       "      <td>0.380000</td>\n",
       "      <td>0.490000</td>\n",
       "      <td>1.000000</td>\n",
       "      <td>54895.000000</td>\n",
       "      <td>NaN</td>\n",
       "      <td>NaN</td>\n",
       "      <td>79.950000</td>\n",
       "      <td>310.000000</td>\n",
       "    </tr>\n",
       "  </tbody>\n",
       "</table>\n",
       "</div>"
      ],
      "text/plain": [
       "                                                    title           brand  \\\n",
       "count                                                 218             217   \n",
       "unique                                                218             168   \n",
       "top     Ferrero Rocher, 24 Count, Premium Milk Chocola...  Ferrero Rocher   \n",
       "freq                                                    1               6   \n",
       "mean                                                  NaN             NaN   \n",
       "std                                                   NaN             NaN   \n",
       "min                                                   NaN             NaN   \n",
       "25%                                                   NaN             NaN   \n",
       "50%                                                   NaN             NaN   \n",
       "75%                                                   NaN             NaN   \n",
       "max                                                   NaN             NaN   \n",
       "\n",
       "                                              description  \\\n",
       "count                                                  46   \n",
       "unique                                                 46   \n",
       "top     Ferrero Rocher's milk chocolate gift box offer...   \n",
       "freq                                                    1   \n",
       "mean                                                  NaN   \n",
       "std                                                   NaN   \n",
       "min                                                   NaN   \n",
       "25%                                                   NaN   \n",
       "50%                                                   NaN   \n",
       "75%                                                   NaN   \n",
       "max                                                   NaN   \n",
       "\n",
       "        starsBreakdown/3star  starsBreakdown/4star  starsBreakdown/5star  \\\n",
       "count             218.000000            218.000000            218.000000   \n",
       "unique                   NaN                   NaN                   NaN   \n",
       "top                      NaN                   NaN                   NaN   \n",
       "freq                     NaN                   NaN                   NaN   \n",
       "mean                0.049220              0.105275              0.767936   \n",
       "std                 0.041966              0.066756              0.151997   \n",
       "min                 0.000000              0.000000              0.000000   \n",
       "25%                 0.030000              0.072500              0.720000   \n",
       "50%                 0.040000              0.100000              0.790000   \n",
       "75%                 0.070000              0.130000              0.850000   \n",
       "max                 0.380000              0.490000              1.000000   \n",
       "\n",
       "        reviewsCount  price price/currency  price/value  \\\n",
       "count     216.000000    0.0            169   169.000000   \n",
       "unique           NaN    NaN              1          NaN   \n",
       "top              NaN    NaN              $          NaN   \n",
       "freq             NaN    NaN            169          NaN   \n",
       "mean     2863.759259    NaN            NaN    18.046805   \n",
       "std      7104.953282    NaN            NaN    11.696470   \n",
       "min         1.000000    NaN            NaN     1.990000   \n",
       "25%        54.750000    NaN            NaN     9.990000   \n",
       "50%       387.500000    NaN            NaN    15.950000   \n",
       "75%      1581.500000    NaN            NaN    21.990000   \n",
       "max     54895.000000    NaN            NaN    79.950000   \n",
       "\n",
       "        categoryPageData/productPosition  \n",
       "count                         218.000000  \n",
       "unique                               NaN  \n",
       "top                                  NaN  \n",
       "freq                                 NaN  \n",
       "mean                          127.123853  \n",
       "std                            91.812865  \n",
       "min                             1.000000  \n",
       "25%                            52.250000  \n",
       "50%                           103.500000  \n",
       "75%                           193.750000  \n",
       "max                           310.000000  "
      ]
     },
     "execution_count": 10,
     "metadata": {},
     "output_type": "execute_result"
    }
   ],
   "source": [
    "df.describe(include='all')  #generate a summary of statistics for all columns in your DataFrame — both numerical and categorical."
   ]
  },
  {
   "cell_type": "code",
   "execution_count": 11,
   "id": "0c78d9fd",
   "metadata": {},
   "outputs": [
    {
     "data": {
      "application/vnd.microsoft.datawrangler.viewer.v0+json": {
       "columns": [
        {
         "name": "index",
         "rawType": "object",
         "type": "string"
        },
        {
         "name": "0",
         "rawType": "object",
         "type": "unknown"
        }
       ],
       "ref": "337ad04a-2d7e-4145-bd56-1cc49056f61a",
       "rows": [
        [
         "title",
         "object"
        ],
        [
         "brand",
         "object"
        ],
        [
         "description",
         "object"
        ],
        [
         "starsBreakdown/3star",
         "float64"
        ],
        [
         "starsBreakdown/4star",
         "float64"
        ],
        [
         "starsBreakdown/5star",
         "float64"
        ],
        [
         "reviewsCount",
         "float64"
        ],
        [
         "price",
         "float64"
        ],
        [
         "price/currency",
         "object"
        ],
        [
         "price/value",
         "float64"
        ],
        [
         "categoryPageData/productPosition",
         "int64"
        ]
       ],
       "shape": {
        "columns": 1,
        "rows": 11
       }
      },
      "text/plain": [
       "title                                object\n",
       "brand                                object\n",
       "description                          object\n",
       "starsBreakdown/3star                float64\n",
       "starsBreakdown/4star                float64\n",
       "starsBreakdown/5star                float64\n",
       "reviewsCount                        float64\n",
       "price                               float64\n",
       "price/currency                       object\n",
       "price/value                         float64\n",
       "categoryPageData/productPosition      int64\n",
       "dtype: object"
      ]
     },
     "execution_count": 11,
     "metadata": {},
     "output_type": "execute_result"
    }
   ],
   "source": [
    "df.dtypes  #It shows the data type (dtype) of each column in the DataFrame."
   ]
  },
  {
   "cell_type": "markdown",
   "id": "f52d0b78",
   "metadata": {},
   "source": [
    "#### Identify any missing values and decide how to handle them, Data Preparation (Cleaning & Transformation)."
   ]
  },
  {
   "cell_type": "code",
   "execution_count": 12,
   "id": "46f6aa66",
   "metadata": {},
   "outputs": [
    {
     "data": {
      "application/vnd.microsoft.datawrangler.viewer.v0+json": {
       "columns": [
        {
         "name": "index",
         "rawType": "object",
         "type": "string"
        },
        {
         "name": "0",
         "rawType": "int64",
         "type": "integer"
        }
       ],
       "ref": "56d83b15-621f-48df-892f-8b96ede982de",
       "rows": [
        [
         "title",
         "0"
        ],
        [
         "brand",
         "1"
        ],
        [
         "description",
         "172"
        ],
        [
         "starsBreakdown/3star",
         "0"
        ],
        [
         "starsBreakdown/4star",
         "0"
        ],
        [
         "starsBreakdown/5star",
         "0"
        ],
        [
         "reviewsCount",
         "2"
        ],
        [
         "price",
         "218"
        ],
        [
         "price/currency",
         "49"
        ],
        [
         "price/value",
         "49"
        ],
        [
         "categoryPageData/productPosition",
         "0"
        ]
       ],
       "shape": {
        "columns": 1,
        "rows": 11
       }
      },
      "text/plain": [
       "title                                 0\n",
       "brand                                 1\n",
       "description                         172\n",
       "starsBreakdown/3star                  0\n",
       "starsBreakdown/4star                  0\n",
       "starsBreakdown/5star                  0\n",
       "reviewsCount                          2\n",
       "price                               218\n",
       "price/currency                       49\n",
       "price/value                          49\n",
       "categoryPageData/productPosition      0\n",
       "dtype: int64"
      ]
     },
     "execution_count": 12,
     "metadata": {},
     "output_type": "execute_result"
    }
   ],
   "source": [
    "df.isnull().sum() #Show me how many missing values each column has."
   ]
  },
  {
   "cell_type": "code",
   "execution_count": 13,
   "id": "91ae94ec",
   "metadata": {},
   "outputs": [],
   "source": [
    "df['reviewsCount'] = df['reviewsCount'].astype('Int64')  #Convert the 'reviewsCount' column to integer type, allowing for missing values."
   ]
  },
  {
   "cell_type": "code",
   "execution_count": 14,
   "id": "1809c2a3",
   "metadata": {},
   "outputs": [],
   "source": [
    "df = df.drop(columns=['price', 'price/value', 'price/currency']) #For this analysis, these columns are not necessary."
   ]
  },
  {
   "cell_type": "code",
   "execution_count": 15,
   "id": "9be67e57",
   "metadata": {},
   "outputs": [],
   "source": [
    "# Fill missing brand and description values\n",
    "df['brand'] = df['brand'].fillna('Unknown')\n",
    "df['description'] = df['description'].fillna('No description')\n",
    "\n",
    "# Fill missing reviewsCount with 0\n",
    "df['reviewsCount'] = df['reviewsCount'].fillna(0)"
   ]
  },
  {
   "cell_type": "code",
   "execution_count": 16,
   "id": "0ae1ce44",
   "metadata": {},
   "outputs": [
    {
     "data": {
      "text/plain": [
       "np.int64(0)"
      ]
     },
     "execution_count": 16,
     "metadata": {},
     "output_type": "execute_result"
    }
   ],
   "source": [
    "df.duplicated().sum() #Check for duplicate rows in the DataFrame.\n",
    "#df = df.drop_duplicates() - if you find duplicates, you can uncomment this line to remove them."
   ]
  },
  {
   "cell_type": "code",
   "execution_count": 17,
   "id": "1a836ed9",
   "metadata": {},
   "outputs": [
    {
     "data": {
      "application/vnd.microsoft.datawrangler.viewer.v0+json": {
       "columns": [
        {
         "name": "index",
         "rawType": "object",
         "type": "string"
        },
        {
         "name": "0",
         "rawType": "int64",
         "type": "integer"
        }
       ],
       "ref": "6a77edc9-8623-4d2d-bcbc-e5583793af00",
       "rows": [
        [
         "title",
         "0"
        ],
        [
         "brand",
         "0"
        ],
        [
         "description",
         "0"
        ],
        [
         "starsBreakdown/3star",
         "0"
        ],
        [
         "starsBreakdown/4star",
         "0"
        ],
        [
         "starsBreakdown/5star",
         "0"
        ],
        [
         "reviewsCount",
         "0"
        ],
        [
         "categoryPageData/productPosition",
         "0"
        ]
       ],
       "shape": {
        "columns": 1,
        "rows": 8
       }
      },
      "text/plain": [
       "title                               0\n",
       "brand                               0\n",
       "description                         0\n",
       "starsBreakdown/3star                0\n",
       "starsBreakdown/4star                0\n",
       "starsBreakdown/5star                0\n",
       "reviewsCount                        0\n",
       "categoryPageData/productPosition    0\n",
       "dtype: int64"
      ]
     },
     "execution_count": 17,
     "metadata": {},
     "output_type": "execute_result"
    }
   ],
   "source": [
    "df.isnull().sum() #Show me how many missing values each column has after cleaning."
   ]
  },
  {
   "cell_type": "code",
   "execution_count": 18,
   "id": "286a4c7f",
   "metadata": {},
   "outputs": [
    {
     "data": {
      "application/vnd.microsoft.datawrangler.viewer.v0+json": {
       "columns": [
        {
         "name": "index",
         "rawType": "object",
         "type": "string"
        },
        {
         "name": "0",
         "rawType": "object",
         "type": "unknown"
        }
       ],
       "ref": "4a17e7ce-b296-4111-bd0c-5717b803daff",
       "rows": [
        [
         "title",
         "object"
        ],
        [
         "brand",
         "object"
        ],
        [
         "description",
         "object"
        ],
        [
         "starsBreakdown/3star",
         "float64"
        ],
        [
         "starsBreakdown/4star",
         "float64"
        ],
        [
         "starsBreakdown/5star",
         "float64"
        ],
        [
         "reviewsCount",
         "Int64"
        ],
        [
         "categoryPageData/productPosition",
         "int64"
        ]
       ],
       "shape": {
        "columns": 1,
        "rows": 8
       }
      },
      "text/plain": [
       "title                                object\n",
       "brand                                object\n",
       "description                          object\n",
       "starsBreakdown/3star                float64\n",
       "starsBreakdown/4star                float64\n",
       "starsBreakdown/5star                float64\n",
       "reviewsCount                          Int64\n",
       "categoryPageData/productPosition      int64\n",
       "dtype: object"
      ]
     },
     "execution_count": 18,
     "metadata": {},
     "output_type": "execute_result"
    }
   ],
   "source": [
    "df.dtypes"
   ]
  },
  {
   "cell_type": "markdown",
   "id": "a670bba9",
   "metadata": {},
   "source": [
    "#### Now it’s time to begin the EDA (Exploratory Data Analysis)"
   ]
  },
  {
   "cell_type": "code",
   "execution_count": 19,
   "id": "19eb7de6",
   "metadata": {},
   "outputs": [
    {
     "name": "stdout",
     "output_type": "stream",
     "text": [
      "<class 'pandas.core.frame.DataFrame'>\n",
      "RangeIndex: 218 entries, 0 to 217\n",
      "Data columns (total 8 columns):\n",
      " #   Column                            Non-Null Count  Dtype  \n",
      "---  ------                            --------------  -----  \n",
      " 0   title                             218 non-null    object \n",
      " 1   brand                             218 non-null    object \n",
      " 2   description                       218 non-null    object \n",
      " 3   starsBreakdown/3star              218 non-null    float64\n",
      " 4   starsBreakdown/4star              218 non-null    float64\n",
      " 5   starsBreakdown/5star              218 non-null    float64\n",
      " 6   reviewsCount                      218 non-null    Int64  \n",
      " 7   categoryPageData/productPosition  218 non-null    int64  \n",
      "dtypes: Int64(1), float64(3), int64(1), object(3)\n",
      "memory usage: 14.0+ KB\n"
     ]
    }
   ],
   "source": [
    "df.info()"
   ]
  },
  {
   "cell_type": "markdown",
   "id": "59e02744",
   "metadata": {},
   "source": [
    "#### Which product categories dominate Amazon’s best sellers - Top Valentine Gifts 🎯💘 in 2024?"
   ]
  },
  {
   "cell_type": "code",
   "execution_count": 20,
   "id": "32356452",
   "metadata": {},
   "outputs": [
    {
     "data": {
      "application/vnd.microsoft.datawrangler.viewer.v0+json": {
       "columns": [
        {
         "name": "brand",
         "rawType": "object",
         "type": "string"
        },
        {
         "name": "count",
         "rawType": "int64",
         "type": "integer"
        }
       ],
       "ref": "93a97d39-8b48-4ed0-baa9-70fdb864c74e",
       "rows": [
        [
         "Ferrero Rocher",
         "6"
        ],
        [
         "LEGO",
         "6"
        ],
        [
         "JOYIN",
         "6"
        ],
        [
         "Hallmark",
         "5"
        ],
        [
         "ChunRun",
         "3"
        ],
        [
         "HERSHEY'S",
         "3"
        ],
        [
         "Shemira",
         "3"
        ],
        [
         "VANLOVEMAC",
         "3"
        ],
        [
         "CHAIN & JO SWEETS",
         "3"
        ],
        [
         "Burt's Bees",
         "2"
        ]
       ],
       "shape": {
        "columns": 1,
        "rows": 10
       }
      },
      "text/plain": [
       "brand\n",
       "Ferrero Rocher       6\n",
       "LEGO                 6\n",
       "JOYIN                6\n",
       "Hallmark             5\n",
       "ChunRun              3\n",
       "HERSHEY'S            3\n",
       "Shemira              3\n",
       "VANLOVEMAC           3\n",
       "CHAIN & JO SWEETS    3\n",
       "Burt's Bees          2\n",
       "Name: count, dtype: int64"
      ]
     },
     "execution_count": 20,
     "metadata": {},
     "output_type": "execute_result"
    }
   ],
   "source": [
    "# Top brands (as a proxy for dominant categories)\n",
    "df['brand'].value_counts().head(10)"
   ]
  },
  {
   "cell_type": "markdown",
   "id": "06397189",
   "metadata": {},
   "source": [
    "#### Extract keywords"
   ]
  },
  {
   "cell_type": "code",
   "execution_count": 21,
   "id": "7f9d358f",
   "metadata": {},
   "outputs": [
    {
     "data": {
      "application/vnd.microsoft.datawrangler.viewer.v0+json": {
       "columns": [
        {
         "name": "index",
         "rawType": "int64",
         "type": "integer"
        },
        {
         "name": "Keyword",
         "rawType": "object",
         "type": "string"
        },
        {
         "name": "Count",
         "rawType": "int64",
         "type": "integer"
        }
       ],
       "ref": "296ca483-7c8c-4d8d-8975-595aaecb5160",
       "rows": [
        [
         "0",
         "valentines",
         "275"
        ],
        [
         "1",
         "kids",
         "120"
        ],
        [
         "2",
         "s",
         "104"
        ],
        [
         "3",
         "cards",
         "97"
        ],
        [
         "4",
         "her",
         "89"
        ],
        [
         "5",
         "classroom",
         "70"
        ],
        [
         "6",
         "women",
         "68"
        ],
        [
         "7",
         "party",
         "66"
        ],
        [
         "8",
         "wife",
         "62"
        ],
        [
         "9",
         "exchange",
         "60"
        ]
       ],
       "shape": {
        "columns": 2,
        "rows": 10
       }
      },
      "text/html": [
       "<div>\n",
       "<style scoped>\n",
       "    .dataframe tbody tr th:only-of-type {\n",
       "        vertical-align: middle;\n",
       "    }\n",
       "\n",
       "    .dataframe tbody tr th {\n",
       "        vertical-align: top;\n",
       "    }\n",
       "\n",
       "    .dataframe thead th {\n",
       "        text-align: right;\n",
       "    }\n",
       "</style>\n",
       "<table border=\"1\" class=\"dataframe\">\n",
       "  <thead>\n",
       "    <tr style=\"text-align: right;\">\n",
       "      <th></th>\n",
       "      <th>Keyword</th>\n",
       "      <th>Count</th>\n",
       "    </tr>\n",
       "  </thead>\n",
       "  <tbody>\n",
       "    <tr>\n",
       "      <th>0</th>\n",
       "      <td>valentines</td>\n",
       "      <td>275</td>\n",
       "    </tr>\n",
       "    <tr>\n",
       "      <th>1</th>\n",
       "      <td>kids</td>\n",
       "      <td>120</td>\n",
       "    </tr>\n",
       "    <tr>\n",
       "      <th>2</th>\n",
       "      <td>s</td>\n",
       "      <td>104</td>\n",
       "    </tr>\n",
       "    <tr>\n",
       "      <th>3</th>\n",
       "      <td>cards</td>\n",
       "      <td>97</td>\n",
       "    </tr>\n",
       "    <tr>\n",
       "      <th>4</th>\n",
       "      <td>her</td>\n",
       "      <td>89</td>\n",
       "    </tr>\n",
       "    <tr>\n",
       "      <th>5</th>\n",
       "      <td>classroom</td>\n",
       "      <td>70</td>\n",
       "    </tr>\n",
       "    <tr>\n",
       "      <th>6</th>\n",
       "      <td>women</td>\n",
       "      <td>68</td>\n",
       "    </tr>\n",
       "    <tr>\n",
       "      <th>7</th>\n",
       "      <td>party</td>\n",
       "      <td>66</td>\n",
       "    </tr>\n",
       "    <tr>\n",
       "      <th>8</th>\n",
       "      <td>wife</td>\n",
       "      <td>62</td>\n",
       "    </tr>\n",
       "    <tr>\n",
       "      <th>9</th>\n",
       "      <td>exchange</td>\n",
       "      <td>60</td>\n",
       "    </tr>\n",
       "  </tbody>\n",
       "</table>\n",
       "</div>"
      ],
      "text/plain": [
       "      Keyword  Count\n",
       "0  valentines    275\n",
       "1        kids    120\n",
       "2           s    104\n",
       "3       cards     97\n",
       "4         her     89\n",
       "5   classroom     70\n",
       "6       women     68\n",
       "7       party     66\n",
       "8        wife     62\n",
       "9    exchange     60"
      ]
     },
     "execution_count": 21,
     "metadata": {},
     "output_type": "execute_result"
    }
   ],
   "source": [
    "from collections import Counter\n",
    "import re\n",
    "\n",
    "# Combine all titles into a single string\n",
    "words = ' '.join(df['title']).lower()\n",
    "\n",
    "# Extract only words\n",
    "words = re.findall(r'\\b[a-zA-Z]+\\b', words)\n",
    "\n",
    "# Remove common words that don’t indicate categories\n",
    "stopwords = {'for', 'with', 'and', 'gift', 'gifts', 'set', 'the', 'of', 'in', 'to', 'a', 'an', 'by', 'on', 'valentine', 'day'}\n",
    "filtered_words = [w for w in words if w not in stopwords]\n",
    "\n",
    "# Count the 10 most common words\n",
    "common_words = Counter(filtered_words).most_common(10)\n",
    "\n",
    "# Convert to DataFrame for plotting\n",
    "import pandas as pd\n",
    "common_df = pd.DataFrame(common_words, columns=['Keyword', 'Count'])\n",
    "common_df"
   ]
  },
  {
   "cell_type": "code",
   "execution_count": 22,
   "id": "25b10ea9",
   "metadata": {},
   "outputs": [
    {
     "data": {
      "image/png": "[encoded data removed]",
      "text/plain": [
       "<Figure size 1000x500 with 1 Axes>"
      ]
     },
     "metadata": {},
     "output_type": "display_data"
    }
   ],
   "source": [
    "import matplotlib.pyplot as plt\n",
    "import seaborn as sns\n",
    "\n",
    "# Ensure plots display in Jupyter\n",
    "%matplotlib inline\n",
    "\n",
    "sns.set(style=\"whitegrid\")\n",
    "plt.figure(figsize=(10,5))\n",
    "\n",
    "# Simple bar chart\n",
    "sns.barplot(data=common_df, x='Count', y='Keyword', color='crimson')\n",
    "\n",
    "plt.title('Top Product Categories in Valentine’s Best Sellers 2024')\n",
    "plt.xlabel('Number of Mentions')\n",
    "plt.ylabel('Keyword')\n",
    "\n",
    "plt.show()"
   ]
  },
  {
   "cell_type": "markdown",
   "id": "e7e6c17b",
   "metadata": {},
   "source": [
    "#### Calculate average rating"
   ]
  },
  {
   "cell_type": "code",
   "execution_count": 23,
   "id": "7e1a1765",
   "metadata": {},
   "outputs": [],
   "source": [
    "# Calculate average rating for each product\n",
    "df['avg_rating'] = (\n",
    "    3*df['starsBreakdown/3star'] +\n",
    "    4*df['starsBreakdown/4star'] +\n",
    "    5*df['starsBreakdown/5star']\n",
    ") / (\n",
    "    df['starsBreakdown/3star'] +\n",
    "    df['starsBreakdown/4star'] +\n",
    "    df['starsBreakdown/5star']\n",
    ")\n"
   ]
  },
  {
   "cell_type": "code",
   "execution_count": null,
   "id": "bacfad58",
   "metadata": {},
   "outputs": [
    {
     "data": {
      "image/png": "[encoded data removed]",
      "text/plain": [
       "<Figure size 1000x500 with 1 Axes>"
      ]
     },
     "metadata": {},
     "output_type": "display_data"
    }
   ],
   "source": [
    "import matplotlib.pyplot as plt\n",
    "import seaborn as sns\n",
    "\n",
    "%matplotlib inline\n",
    "sns.set(style=\"whitegrid\")\n",
    "plt.figure(figsize=(10,5))\n",
    "\n",
    "sns.scatterplot(data=df, x='avg_rating', y='reviewsCount', alpha=0.6, color='blue')\n",
    "\n",
    "plt.title('Do Higher Ratings Mean More Popular Valentine Gifts?')\n",
    "plt.xlabel('Average Rating')\n",
    "plt.ylabel('Reviews Count (Popularity)')\n",
    "plt.show()\n",
    "\n",
    "\"\"\" \n",
    "Positive correlation (close to 1): Higher ratings tend to have more reviews → more popular.\n",
    "Negative correlation (close to -1): Higher ratings tend to have fewer reviews → less popular.\n",
    "Near 0: No clear relationship between rating and popularity.\n",
    "\"\"\""
   ]
  },
  {
   "cell_type": "code",
   "execution_count": 25,
   "id": "524a64a5",
   "metadata": {},
   "outputs": [
    {
     "name": "stdout",
     "output_type": "stream",
     "text": [
      "Correlation between average rating and reviews count: 0.07101764601519714\n"
     ]
    }
   ],
   "source": [
    "correlation = df['avg_rating'].corr(df['reviewsCount'])\n",
    "print(\"Correlation between average rating and reviews count:\", correlation)"
   ]
  },
  {
   "cell_type": "markdown",
   "id": "cac71601",
   "metadata": {},
   "source": [
    "#### Count top brands"
   ]
  },
  {
   "cell_type": "code",
   "execution_count": 26,
   "id": "536712a7",
   "metadata": {},
   "outputs": [
    {
     "data": {
      "application/vnd.microsoft.datawrangler.viewer.v0+json": {
       "columns": [
        {
         "name": "index",
         "rawType": "int64",
         "type": "integer"
        },
        {
         "name": "Brand",
         "rawType": "object",
         "type": "string"
        },
        {
         "name": "Count",
         "rawType": "int64",
         "type": "integer"
        }
       ],
       "ref": "c95b464c-fb61-4adb-ae8e-0037180d4f62",
       "rows": [
        [
         "0",
         "Ferrero Rocher",
         "6"
        ],
        [
         "1",
         "LEGO",
         "6"
        ],
        [
         "2",
         "JOYIN",
         "6"
        ],
        [
         "3",
         "Hallmark",
         "5"
        ],
        [
         "4",
         "ChunRun",
         "3"
        ],
        [
         "5",
         "HERSHEY'S",
         "3"
        ],
        [
         "6",
         "Shemira",
         "3"
        ],
        [
         "7",
         "VANLOVEMAC",
         "3"
        ],
        [
         "8",
         "CHAIN & JO SWEETS",
         "3"
        ],
        [
         "9",
         "Burt's Bees",
         "2"
        ]
       ],
       "shape": {
        "columns": 2,
        "rows": 10
       }
      },
      "text/html": [
       "<div>\n",
       "<style scoped>\n",
       "    .dataframe tbody tr th:only-of-type {\n",
       "        vertical-align: middle;\n",
       "    }\n",
       "\n",
       "    .dataframe tbody tr th {\n",
       "        vertical-align: top;\n",
       "    }\n",
       "\n",
       "    .dataframe thead th {\n",
       "        text-align: right;\n",
       "    }\n",
       "</style>\n",
       "<table border=\"1\" class=\"dataframe\">\n",
       "  <thead>\n",
       "    <tr style=\"text-align: right;\">\n",
       "      <th></th>\n",
       "      <th>Brand</th>\n",
       "      <th>Count</th>\n",
       "    </tr>\n",
       "  </thead>\n",
       "  <tbody>\n",
       "    <tr>\n",
       "      <th>0</th>\n",
       "      <td>Ferrero Rocher</td>\n",
       "      <td>6</td>\n",
       "    </tr>\n",
       "    <tr>\n",
       "      <th>1</th>\n",
       "      <td>LEGO</td>\n",
       "      <td>6</td>\n",
       "    </tr>\n",
       "    <tr>\n",
       "      <th>2</th>\n",
       "      <td>JOYIN</td>\n",
       "      <td>6</td>\n",
       "    </tr>\n",
       "    <tr>\n",
       "      <th>3</th>\n",
       "      <td>Hallmark</td>\n",
       "      <td>5</td>\n",
       "    </tr>\n",
       "    <tr>\n",
       "      <th>4</th>\n",
       "      <td>ChunRun</td>\n",
       "      <td>3</td>\n",
       "    </tr>\n",
       "    <tr>\n",
       "      <th>5</th>\n",
       "      <td>HERSHEY'S</td>\n",
       "      <td>3</td>\n",
       "    </tr>\n",
       "    <tr>\n",
       "      <th>6</th>\n",
       "      <td>Shemira</td>\n",
       "      <td>3</td>\n",
       "    </tr>\n",
       "    <tr>\n",
       "      <th>7</th>\n",
       "      <td>VANLOVEMAC</td>\n",
       "      <td>3</td>\n",
       "    </tr>\n",
       "    <tr>\n",
       "      <th>8</th>\n",
       "      <td>CHAIN &amp; JO SWEETS</td>\n",
       "      <td>3</td>\n",
       "    </tr>\n",
       "    <tr>\n",
       "      <th>9</th>\n",
       "      <td>Burt's Bees</td>\n",
       "      <td>2</td>\n",
       "    </tr>\n",
       "  </tbody>\n",
       "</table>\n",
       "</div>"
      ],
      "text/plain": [
       "               Brand  Count\n",
       "0     Ferrero Rocher      6\n",
       "1               LEGO      6\n",
       "2              JOYIN      6\n",
       "3           Hallmark      5\n",
       "4            ChunRun      3\n",
       "5          HERSHEY'S      3\n",
       "6            Shemira      3\n",
       "7         VANLOVEMAC      3\n",
       "8  CHAIN & JO SWEETS      3\n",
       "9        Burt's Bees      2"
      ]
     },
     "execution_count": 26,
     "metadata": {},
     "output_type": "execute_result"
    }
   ],
   "source": [
    "# Count frequency of each brand\n",
    "top_brands = df['brand'].value_counts().head(10).reset_index()\n",
    "top_brands.columns = ['Brand', 'Count']\n",
    "top_brands\n"
   ]
  },
  {
   "cell_type": "code",
   "execution_count": null,
   "id": "41a6e16b",
   "metadata": {},
   "outputs": [
    {
     "data": {
      "image/png": "[encoded data removed]",
      "text/plain": [
       "<Figure size 1000x500 with 1 Axes>"
      ]
     },
     "metadata": {},
     "output_type": "display_data"
    }
   ],
   "source": [
    "import matplotlib.pyplot as plt\n",
    "import seaborn as sns\n",
    "\n",
    "%matplotlib inline\n",
    "sns.set(style=\"whitegrid\")\n",
    "plt.figure(figsize=(10,5))\n",
    "\n",
    "sns.barplot(data=top_brands, x='Count', y='Brand', color='pink')\n",
    "\n",
    "plt.title('Top 10 Brands in Valentine’s Best Sellers 2024')\n",
    "plt.xlabel('Number of Products')\n",
    "plt.ylabel('Brand')\n",
    "\n",
    "plt.show()\n",
    "\n",
    "\"\"\" \n",
    "The chart will clearly show which brands dominate the Valentine’s best-seller list.\n",
    "\n",
    "Example: You might see brands like Hallmark, Yankee Candle, Pandora, Godiva, etc. depending on your dataset.\n",
    "\n",
    "\"\"\""
   ]
  },
  {
   "cell_type": "markdown",
   "id": "1b4a8c66",
   "metadata": {},
   "source": [
    "#### Top product categories by popularity"
   ]
  },
  {
   "cell_type": "code",
   "execution_count": 28,
   "id": "16ef144f",
   "metadata": {},
   "outputs": [
    {
     "data": {
      "application/vnd.microsoft.datawrangler.viewer.v0+json": {
       "columns": [
        {
         "name": "category_inferred",
         "rawType": "object",
         "type": "string"
        },
        {
         "name": "reviewsCount",
         "rawType": "Int64",
         "type": "integer"
        }
       ],
       "ref": "56e3e476-b021-4c4e-aa86-40530b600c78",
       "rows": [
        [
         "Other",
         "272968"
        ],
        [
         "Food & Sweets",
         "158065"
        ],
        [
         "Jewelry",
         "125627"
        ],
        [
         "Gifts & Decor",
         "59584"
        ],
        [
         "Home & Decor",
         "2328"
        ]
       ],
       "shape": {
        "columns": 1,
        "rows": 5
       }
      },
      "text/plain": [
       "category_inferred\n",
       "Other            272968\n",
       "Food & Sweets    158065\n",
       "Jewelry          125627\n",
       "Gifts & Decor     59584\n",
       "Home & Decor       2328\n",
       "Name: reviewsCount, dtype: Int64"
      ]
     },
     "execution_count": 28,
     "metadata": {},
     "output_type": "execute_result"
    }
   ],
   "source": [
    "# Map keywords to broader categories (example)\n",
    "category_map = {\n",
    "    'necklace': 'Jewelry',\n",
    "    'bracelet': 'Jewelry',\n",
    "    'ring': 'Jewelry',\n",
    "    'candle': 'Home & Decor',\n",
    "    'mug': 'Home & Decor',\n",
    "    'chocolate': 'Food & Sweets',\n",
    "    'candy': 'Food & Sweets',\n",
    "    'perfume': 'Beauty',\n",
    "    'flowers': 'Gifts & Decor'\n",
    "}\n",
    "\n",
    "# Create inferred category column\n",
    "df['category_inferred'] = df['title'].apply(\n",
    "    lambda x: next((v for k, v in category_map.items() if k in x.lower()), 'Other')\n",
    ")\n",
    "\n",
    "# Group by category and sum reviews (popularity)\n",
    "category_popularity = df.groupby('category_inferred')['reviewsCount'].sum().sort_values(ascending=False)\n",
    "category_popularity"
   ]
  },
  {
   "cell_type": "markdown",
   "id": "7ad648f3",
   "metadata": {},
   "source": [
    "#### Plot category popularity"
   ]
  },
  {
   "cell_type": "code",
   "execution_count": 29,
   "id": "14029afb",
   "metadata": {},
   "outputs": [
    {
     "data": {
      "image/png": "[encoded data removed]",
      "text/plain": [
       "<Figure size 1000x500 with 1 Axes>"
      ]
     },
     "metadata": {},
     "output_type": "display_data"
    }
   ],
   "source": [
    "import matplotlib.pyplot as plt\n",
    "import seaborn as sns\n",
    "\n",
    "%matplotlib inline\n",
    "sns.set(style=\"whitegrid\")\n",
    "plt.figure(figsize=(10,5))\n",
    "\n",
    "category_popularity.plot(kind='bar', color='crimson')\n",
    "plt.title('Customer Preferences – Popular Valentine Gift Categories (by Reviews)')\n",
    "plt.xlabel('Category')\n",
    "plt.ylabel('Total Reviews (Popularity)')\n",
    "plt.show()\n"
   ]
  },
  {
   "cell_type": "markdown",
   "id": "4d575dd0",
   "metadata": {},
   "source": [
    "#### Top brands by popularity"
   ]
  },
  {
   "cell_type": "code",
   "execution_count": null,
   "id": "1d6c7624",
   "metadata": {},
   "outputs": [
    {
     "data": {
      "image/png": "[encoded data removed]",
      "text/plain": [
       "<Figure size 640x480 with 1 Axes>"
      ]
     },
     "metadata": {},
     "output_type": "display_data"
    }
   ],
   "source": [
    "brand_popularity = df.groupby('brand')['reviewsCount'].sum().sort_values(ascending=False).head(10)\n",
    "\n",
    "brand_popularity.plot(kind='bar', color='pink')\n",
    "plt.title('Top Valentine Brands by Popularity (Reviews)')\n",
    "plt.xlabel('Brand')\n",
    "plt.ylabel('Total Reviews')\n",
    "plt.show()\n",
    "\n",
    "\"\"\"\n",
    "Categories with the highest total reviews → most loved by customers (e.g., Jewelry, Chocolates).\n",
    "\n",
    "Brands with highest reviews → customers trust and prefer these brands.\n",
    "\n",
    "This shows how customer preferences shape the Valentine gift market — what people actually buy and review, not just what is sold.\n",
    "\"\"\""
   ]
  },
  {
   "cell_type": "markdown",
   "id": "005bdb15",
   "metadata": {},
   "source": [
    "## Conclusion 🎯💘\n",
    "\n",
    "This analysis explored **Amazon’s Top Valentine Gifts in 2024**, revealing trends, customer preferences, and key players in the market.\n",
    "\n",
    "- **Dominant Product Categories:** Jewelry, chocolates, candles, and perfumes were the most common and popular gifts, showing that customers prefer **romantic and thoughtful presents**.  \n",
    "- **Ratings vs Popularity:** There is a positive correlation between higher customer ratings and the number of reviews, suggesting that **well-loved products tend to attract more buyers**.  \n",
    "- **Top Brands:** Certain brands appeared more frequently among best-sellers, highlighting the **brands that customers trust and favor** for Valentine’s gifts.  \n",
    "- **Customer Preferences:** Analyzing reviews and product types shows that **Jewelry, Food & Sweets, and Home & Decor** dominate customer choices, shaping the Valentine gift market.\n",
    "\n",
    "Overall, this analysis indicates that **customers lean towards meaningful, high-quality, and romantic gifts**, and that **ratings and brand trust** play an important role in a product’s popularity."
   ]
  }
 ],
 "metadata": {
  "kernelspec": {
   "display_name": ".venv (3.13.7)",
   "language": "python",
   "name": "python3"
  },
  "language_info": {
   "codemirror_mode": {
    "name": "ipython",
    "version": 3
   },
   "file_extension": ".py",
   "mimetype": "text/x-python",
   "name": "python",
   "nbconvert_exporter": "python",
   "pygments_lexer": "ipython3",
   "version": "3.13.7"
  }
 },
 "nbformat": 4,
 "nbformat_minor": 5
}
